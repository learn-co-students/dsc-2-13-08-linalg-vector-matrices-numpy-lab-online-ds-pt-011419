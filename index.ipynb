{
 "cells": [
  {
   "cell_type": "markdown",
   "metadata": {},
   "source": [
    "# Vectors and Matrices in Numpy - Lab\n",
    "\n",
    "## Introduction\n",
    "\n",
    "This lab will ask you to perform some simple matrix creation and manipulation exercises based on what we have covered so far in this section. The key takeaway here for you is to be able to understand how to using indexing with matrices and vectors while applying some basic operations.\n",
    "\n",
    "## Objectives\n",
    "You will be able to:\n",
    "* Define vectors and matrices in NumPy\n",
    "* Check the shape of vectors and matrices\n",
    "* Access and manipulate individual scalar components of a matrix. "
   ]
  },
  {
   "cell_type": "markdown",
   "metadata": {},
   "source": [
    "## 1. Define two arrays A (4x2) and B (2x3) \n",
    "```\n",
    "A = 1402, 191 \n",
    "    1371, 821 \n",
    "    949, 1437\n",
    "    147, 1448\n",
    "    \n",
    "B = 1, 2, 3\n",
    "    4, 5, 6\n",
    "    ```"
   ]
  },
  {
   "cell_type": "code",
   "execution_count": 3,
   "metadata": {},
   "outputs": [],
   "source": [
    "import numpy as np\n",
    "A = np.array([[1402, 191], [1371, 821], [949, 1437], [147, 1448]])\n",
    "B = np.array([[1, 2, 3], [4, 5, 6]])"
   ]
  },
  {
   "cell_type": "markdown",
   "metadata": {},
   "source": [
    "## 2. Print the dimensions of A and B "
   ]
  },
  {
   "cell_type": "code",
   "execution_count": 5,
   "metadata": {},
   "outputs": [
    {
     "name": "stdout",
     "output_type": "stream",
     "text": [
      "Shape of A: (4, 2)\n",
      "Shape of B: (2, 3)\n"
     ]
    }
   ],
   "source": [
    "# Code Here\n",
    "print('Shape of A: {}'.format(A.shape))\n",
    "print('Shape of B: {}'.format(B.shape))"
   ]
  },
  {
   "cell_type": "markdown",
   "metadata": {},
   "source": [
    "## 3. Print some of the elements from A at following locations\n",
    "* first row and first column\n",
    "* first row and second column\n",
    "* third row and second column\n",
    "* fourth row and first column"
   ]
  },
  {
   "cell_type": "code",
   "execution_count": 6,
   "metadata": {},
   "outputs": [
    {
     "name": "stdout",
     "output_type": "stream",
     "text": [
      "1402\n",
      "191\n",
      "1437\n",
      "147\n"
     ]
    }
   ],
   "source": [
    "print(A[0, 0])\n",
    "print(A[0, 1])\n",
    "print(A[2, 1])\n",
    "print(A[3, 0])"
   ]
  },
  {
   "cell_type": "markdown",
   "metadata": {},
   "source": [
    "## 4. Write a routine to populate matrix with random data\n",
    "* Create an 3x3 numpy array with all zeros (use `np.zeros()`)\n",
    "* Access each location i,j of this matrix and fill in random values between the range 1 and 10. "
   ]
  },
  {
   "cell_type": "code",
   "execution_count": 15,
   "metadata": {},
   "outputs": [
    {
     "name": "stdout",
     "output_type": "stream",
     "text": [
      "Before: [[0. 0. 0.]\n",
      " [0. 0. 0.]\n",
      " [0. 0. 0.]]\n",
      "After: [[6. 8. 7.]\n",
      " [6. 2. 3.]\n",
      " [4. 9. 8.]]\n"
     ]
    }
   ],
   "source": [
    "M = np.zeros((3, 3))\n",
    "print('Before: {}'.format(M))\n",
    "\n",
    "import random\n",
    "\n",
    "for x in range(0, M.shape[0]):\n",
    "    for y in range(0, M.shape[1]):\n",
    "        M[x, y] = random.randrange(1, 10)\n",
    "\n",
    "print('After: {}'.format(M))"
   ]
  },
  {
   "cell_type": "markdown",
   "metadata": {},
   "source": [
    "## 5. Turn above routine into a function.\n",
    "* Create two 4x4 zero valued matrices and fill with random data using the function\n",
    "* Add the matrices together in numpy \n",
    "* Show the results"
   ]
  },
  {
   "cell_type": "code",
   "execution_count": 18,
   "metadata": {},
   "outputs": [
    {
     "name": "stdout",
     "output_type": "stream",
     "text": [
      "Final Output\n",
      "\n",
      "[[10. 10. 14. 10.]\n",
      " [15.  9. 10. 12.]\n",
      " [10. 11. 11.  9.]\n",
      " [ 4.  9.  6.  9.]]\n"
     ]
    }
   ],
   "source": [
    "def random_add():\n",
    "    A = np.zeros((4, 4))\n",
    "    B = np.zeros((4, 4))\n",
    "    for x in range(0, A.shape[0]):\n",
    "        for y in range(0, A.shape[1]):\n",
    "            A[x, y] = random.randrange(1, 10)\n",
    "            B[x, y] = random.randrange(1, 10)\n",
    "    C = A + B\n",
    "    print('Final Output\\n\\n{}'.format(C))\n",
    "    \n",
    "random_add()"
   ]
  },
  {
   "cell_type": "markdown",
   "metadata": {},
   "source": [
    "## Summary \n",
    "\n",
    "In this lab, we saw how to create and manipulate vectors and matrices in numpy. We shall now move forward to learning more complex operations including dot products and inverses. "
   ]
  }
 ],
 "metadata": {
  "kernelspec": {
   "display_name": "learn-env",
   "language": "python",
   "name": "learn-env"
  },
  "language_info": {
   "codemirror_mode": {
    "name": "ipython",
    "version": 3
   },
   "file_extension": ".py",
   "mimetype": "text/x-python",
   "name": "python",
   "nbconvert_exporter": "python",
   "pygments_lexer": "ipython3",
   "version": "3.6.6"
  }
 },
 "nbformat": 4,
 "nbformat_minor": 2
}
